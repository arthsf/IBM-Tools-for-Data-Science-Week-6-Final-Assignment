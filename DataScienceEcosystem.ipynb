{
 "cells": [
  {
   "cell_type": "markdown",
   "id": "6957fa06-b0bc-4842-bdff-1f7f33553376",
   "metadata": {},
   "source": [
    "# Data Science Tools and Ecosystem"
   ]
  },
  {
   "cell_type": "markdown",
   "id": "a834f4a1-6852-4661-a84c-c63474c22159",
   "metadata": {},
   "source": [
    "This notebook provides a comprehensive overview of the Data Science Tools and Ecosystem, highlighting essential techniques, platforms, and frameworks pivotal for data analysis, visualization, and model development."
   ]
  },
  {
   "cell_type": "markdown",
   "id": "f1e44d42-8ad1-4059-b61a-f9d37114efc7",
   "metadata": {},
   "source": [
    "**Objectives:**\n",
    "\n",
    "- List popular languages for Data Science\n",
    "- Identify commonly used libraries by Data Scientists\n",
    "- Highlight essential Data Science tools\n",
    "- Introduce arithmetic expression examples in Python\n",
    "- Demonstrate basic Python operations for data manipulation"
   ]
  },
  {
   "cell_type": "markdown",
   "id": "8f6b2d4e-291e-4d53-b568-104fa989a837",
   "metadata": {
    "tags": []
   },
   "source": [
    "Some of the popular languages that Data Scientists use are:\n",
    "\n",
    "1. Python - Known for its versatility and simplicity, Python is widely used in data science for data manipulation, analysis, and machine learning due to its rich ecosystem of libraries such as Pandas, NumPy, SciPy, Matplotlib, and scikit-learn.\n",
    "\n",
    "2. R - Particularly favored for statistical analysis and graphical models, R is a language designed by statisticians for statisticians, offering a vast array of packages for data analysis, visualization, and machine learning tasks.\n",
    "\n",
    "3. SQL - Essential for data extraction, manipulation, and querying from relational databases, SQL (Structured Query Language) is crucial for data scientists to access and work with structured data stored in databases."
   ]
  },
  {
   "cell_type": "markdown",
   "id": "3a2f09c9-9746-4975-a659-7b24b3c12c53",
   "metadata": {},
   "source": [
    "Some of the commonly used libraries used by Data Scientists include:\n",
    "\n",
    "1. **Pandas** - A Python library providing high-performance, easy-to-use data structures, and data analysis tools.\n",
    "\n",
    "2. **NumPy** - A fundamental package for scientific computing with Python, offering support for large, multi-dimensional arrays and matrices, along with a collection of mathematical functions to operate on these arrays.\n",
    "\n",
    "3. **Matplotlib** - A plotting library for the Python programming language and its numerical mathematics extension NumPy, used for creating static, interactive, and animated visualizations in Python.\n",
    "\n",
    "4. **Scikit-learn** - A Python library for machine learning, providing simple and efficient tools for data mining and data analysis, built on NumPy, SciPy, and Matplotlib.\n",
    "\n",
    "5. **TensorFlow** - An open-source machine learning framework for everyone, developed by Google to conduct machine learning and deep neural networks research.\n",
    "\n",
    "6. **Keras** - A high-level neural networks API, written in Python and capable of running on top of TensorFlow, CNTK, or Theano, designed to enable fast experimentation with deep neural networks."
   ]
  },
  {
   "cell_type": "markdown",
   "id": "aace9a01-8096-43c9-a909-fa344a496994",
   "metadata": {},
   "source": [
    "| Data Science Tools   |\n",
    "|----------------------|\n",
    "| Jupyter Notebooks    |\n",
    "| RStudio              |\n",
    "| Apache Zeppelin      |"
   ]
  },
  {
   "cell_type": "markdown",
   "id": "de245153-f6d9-40e2-a9e6-7665c6e3c819",
   "metadata": {},
   "source": [
    "### Below are a few examples of evaluating arithmetic expressions in Python"
   ]
  },
  {
   "cell_type": "code",
   "execution_count": 1,
   "id": "035f6a09-3669-482d-9400-8e8ec3c554d0",
   "metadata": {
    "tags": []
   },
   "outputs": [
    {
     "data": {
      "text/plain": [
       "17"
      ]
     },
     "execution_count": 1,
     "metadata": {},
     "output_type": "execute_result"
    }
   ],
   "source": [
    "# This a simple arithmetic expression to mutiply then add integers\n",
    "n = (3 * 4) + 5\n",
    "n"
   ]
  },
  {
   "cell_type": "code",
   "execution_count": 2,
   "id": "6d7c1159-f84a-439c-985b-3cdcdf22e7a0",
   "metadata": {
    "tags": []
   },
   "outputs": [
    {
     "data": {
      "text/plain": [
       "3.3333333333333335"
      ]
     },
     "execution_count": 2,
     "metadata": {},
     "output_type": "execute_result"
    }
   ],
   "source": [
    "# This will convert 200 minutes to hours by dividing by 60\n",
    "hours = 200 / 60\n",
    "hours"
   ]
  },
  {
   "cell_type": "markdown",
   "id": "e013fc78-76a2-4c49-a258-be45d8cdaa88",
   "metadata": {},
   "source": [
    "## Author\n",
    "Arthus FRAPPE"
   ]
  },
  {
   "cell_type": "code",
   "execution_count": null,
   "id": "a4fc7898-cb46-4c69-905a-de2f0c6a63bd",
   "metadata": {},
   "outputs": [
    {
     "ename": "",
     "evalue": "",
     "output_type": "error",
     "traceback": [
      "\u001b[1;31mFailed to start the Kernel '.venv (Python)'. \n",
      "\u001b[1;31mView Jupyter <a href='command:jupyter.viewOutput'>log</a> for further details. Canceled"
     ]
    }
   ],
   "source": []
  }
 ],
 "metadata": {
  "kernelspec": {
   "display_name": ".venv",
   "language": "python",
   "name": "python3"
  },
  "language_info": {
   "codemirror_mode": {
    "name": "ipython",
    "version": 3
   },
   "file_extension": ".py",
   "mimetype": "text/x-python",
   "name": "python",
   "nbconvert_exporter": "python",
   "pygments_lexer": "ipython3",
   "version": "3.11.8"
  }
 },
 "nbformat": 4,
 "nbformat_minor": 5
}
